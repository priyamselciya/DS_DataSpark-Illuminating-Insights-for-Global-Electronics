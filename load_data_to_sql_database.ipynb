{
 "cells": [
  {
   "cell_type": "code",
   "execution_count": null,
   "metadata": {},
   "outputs": [
    {
     "ename": "",
     "evalue": "",
     "output_type": "error",
     "traceback": [
      "\u001b[1;31mFailed to start the Kernel. \n",
      "\u001b[1;31mUnable to start Kernel 'Python undefined.undefined.undefined' due to a timeout waiting for the ports to get used. \n",
      "\u001b[1;31mView Jupyter <a href='command:jupyter.viewOutput'>log</a> for further details."
     ]
    }
   ],
   "source": [
    "#import packages\n",
    "from sqlalchemy import create_engine,text\n",
    "from sqlalchemy import DECIMAL\n",
    "import pandas as pd\n",
    "\n",
    "#define variables\n",
    "username = 'root'\n",
    "password = ''\n",
    "host = 'localhost'\n",
    "port = '3306'\n",
    "database = 'global_electronics'"
   ]
  },
  {
   "cell_type": "code",
   "execution_count": 2,
   "metadata": {},
   "outputs": [],
   "source": [
    "# Step 1: Now connect to the newly created/existing database\n",
    "engine = create_engine(f'mysql+pymysql://{username}:{password}@{host}:{port}')"
   ]
  },
  {
   "cell_type": "code",
   "execution_count": 3,
   "metadata": {},
   "outputs": [
    {
     "name": "stdout",
     "output_type": "stream",
     "text": [
      "Database 'global_electronics' created or already exists.\n"
     ]
    }
   ],
   "source": [
    "# Step 2: Create the database if it doesn't exist\n",
    "with engine.connect() as connection:\n",
    "    database_query = f\"CREATE DATABASE IF NOT EXISTS {database}\"\n",
    "    connection.execute(text(database_query))\n",
    "    print(f\"Database '{database}' created or already exists.\")"
   ]
  },
  {
   "cell_type": "code",
   "execution_count": 4,
   "metadata": {},
   "outputs": [],
   "source": [
    "# Step 3: Now connect to the newly created/existing database\n",
    "engine = create_engine(f'mysql+pymysql://{username}:{password}@{host}:{port}/{database}')"
   ]
  },
  {
   "cell_type": "code",
   "execution_count": 7,
   "metadata": {},
   "outputs": [],
   "source": [
    "# Step 4: Load cleaned datasets individually with specified encoding\n",
    "customers_df = pd.read_csv(r'D:\\DS_DataSpark Illuminating Insights for Global Electronics\\cleaned_dataset\\Customers.csv', encoding='ISO-8859-1')\n",
    "exchange_rates_df = pd.read_csv(r'D:\\DS_DataSpark Illuminating Insights for Global Electronics\\cleaned_dataset\\exchange_rates.csv', encoding='ISO-8859-1')\n",
    "products_df = pd.read_csv(r'D:\\DS_DataSpark Illuminating Insights for Global Electronics\\cleaned_dataset\\products.csv', encoding='ISO-8859-1')\n",
    "sales_df = pd.read_csv(r'D:\\DS_DataSpark Illuminating Insights for Global Electronics\\cleaned_dataset\\sales.csv', encoding='ISO-8859-1')\n",
    "stores_df = pd.read_csv(r'D:\\DS_DataSpark Illuminating Insights for Global Electronics\\cleaned_dataset\\stores.csv', encoding='ISO-8859-1')\n"
   ]
  },
  {
   "cell_type": "code",
   "execution_count": 8,
   "metadata": {},
   "outputs": [
    {
     "data": {
      "text/plain": [
       "67"
      ]
     },
     "execution_count": 8,
     "metadata": {},
     "output_type": "execute_result"
    }
   ],
   "source": [
    "# Step 5: Load each DataFrame to the SQL database\n",
    "customers_df.to_sql('customers', con=engine, if_exists='replace', index=False)\n",
    "exchange_rates_df.to_sql('exchange_rates', con=engine, if_exists='replace', index=False)\n",
    "products_df.to_sql('products', con=engine, if_exists='replace', index=False,dtype={'unit_cost_usd': DECIMAL(10, 2), 'unit_price_usd': DECIMAL(10, 2)})\n",
    "sales_df.to_sql('sales', con=engine, if_exists='replace', index=False)\n",
    "stores_df.to_sql('stores', con=engine, if_exists='replace', index=False)"
   ]
  }
 ],
 "metadata": {
  "kernelspec": {
   "display_name": "Python 3",
   "language": "python",
   "name": "python3"
  },
  "language_info": {
   "codemirror_mode": {
    "name": "ipython",
    "version": 3
   },
   "file_extension": ".py",
   "mimetype": "text/x-python",
   "name": "python",
   "nbconvert_exporter": "python",
   "pygments_lexer": "ipython3",
   "version": "3.12.4"
  }
 },
 "nbformat": 4,
 "nbformat_minor": 2
}
